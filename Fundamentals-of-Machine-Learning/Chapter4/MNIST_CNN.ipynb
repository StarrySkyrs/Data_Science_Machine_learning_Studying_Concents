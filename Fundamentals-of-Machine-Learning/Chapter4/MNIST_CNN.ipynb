{
 "cells": [
  {
   "cell_type": "code",
   "execution_count": 1,
   "metadata": {},
   "outputs": [
    {
     "name": "stderr",
     "output_type": "stream",
     "text": [
      "Using TensorFlow backend.\n"
     ]
    },
    {
     "name": "stdout",
     "output_type": "stream",
     "text": [
      "(60000, 28, 28)\n"
     ]
    },
    {
     "data": {
      "text/plain": [
       "<matplotlib.image.AxesImage at 0x20d18763780>"
      ]
     },
     "execution_count": 1,
     "metadata": {},
     "output_type": "execute_result"
    }
   ],
   "source": [
    "import numpy as np\n",
    "import matplotlib.pyplot as plt\n",
    "from keras import models, layers, optimizers, datasets, utils, losses\n",
    "\n",
    "(x_train, y_train), (x_test, y_test) = datasets.mnist.load_data()\n",
    "print(np.shape(x_train))\n",
    "plt.matshow(255-x_train[5,:,:], cmap='gray')\n"
   ]
  },
  {
   "cell_type": "code",
   "execution_count": 2,
   "metadata": {
    "scrolled": false
   },
   "outputs": [
    {
     "name": "stdout",
     "output_type": "stream",
     "text": [
      "WARNING:tensorflow:From C:\\Users\\Thomas Trappenberg\\WPy64-3720\\python-3.7.2.amd64\\lib\\site-packages\\tensorflow\\python\\framework\\op_def_library.py:263: colocate_with (from tensorflow.python.framework.ops) is deprecated and will be removed in a future version.\n",
      "Instructions for updating:\n",
      "Colocations handled automatically by placer.\n",
      "WARNING:tensorflow:From C:\\Users\\Thomas Trappenberg\\WPy64-3720\\python-3.7.2.amd64\\lib\\site-packages\\keras\\backend\\tensorflow_backend.py:3445: calling dropout (from tensorflow.python.ops.nn_ops) with keep_prob is deprecated and will be removed in a future version.\n",
      "Instructions for updating:\n",
      "Please use `rate` instead of `keep_prob`. Rate should be set to `rate = 1 - keep_prob`.\n",
      "WARNING:tensorflow:From C:\\Users\\Thomas Trappenberg\\WPy64-3720\\python-3.7.2.amd64\\lib\\site-packages\\tensorflow\\python\\ops\\math_ops.py:3066: to_int32 (from tensorflow.python.ops.math_ops) is deprecated and will be removed in a future version.\n",
      "Instructions for updating:\n",
      "Use tf.cast instead.\n",
      "Train on 1024 samples, validate on 10000 samples\n",
      "Epoch 1/2\n",
      "1024/1024 [==============================] - 15s 15ms/step - loss: 2.0101 - acc: 0.3037 - val_loss: 1.5100 - val_acc: 0.6580\n",
      "Epoch 2/2\n",
      "1024/1024 [==============================] - 14s 14ms/step - loss: 1.2717 - acc: 0.5996 - val_loss: 1.1513 - val_acc: 0.6410\n",
      "Test loss: 1.15132945728302\n",
      "Test accuracy: 0.641\n"
     ]
    }
   ],
   "source": [
    "x_train = x_train.reshape(60000, 28, 28, 1)/255\n",
    "x_train = x_train[:1024,:,:,:]\n",
    "x_test = x_test.reshape(10000, 28, 28, 1)/255\n",
    "y_train = utils.to_categorical(y_train[:1024], 10)\n",
    "y_test = utils.to_categorical(y_test, 10)\n",
    "\n",
    "inputs = layers.Input(shape=(28, 28, 1,))\n",
    "x=layers.Conv2D(32, kernel_size=(3, 3),activation='relu')(inputs)\n",
    "x=layers.Conv2D(64, (3, 3), activation='relu')(x)\n",
    "x=layers.MaxPooling2D(pool_size=(2, 2))(x)\n",
    "x=layers.Dropout(0.25)(x)\n",
    "x=layers.Flatten()(x)\n",
    "x=layers.Dense(128, activation='relu')(x)\n",
    "x=layers.Dropout(0.5)(x)\n",
    "outputs=layers.Dense(10, activation='softmax')(x)\n",
    "\n",
    "model = models.Model(inputs=inputs, outputs=outputs)\n",
    "\n",
    "model.compile(loss=losses.categorical_crossentropy,\n",
    "              optimizer=optimizers.Adadelta(),\n",
    "              metrics=['accuracy'])\n",
    "\n",
    "model.fit(x_train, y_train,\n",
    "          batch_size=128,\n",
    "          epochs=2,\n",
    "          verbose=1,\n",
    "          validation_data=(x_test, y_test))\n",
    "score = model.evaluate(x_test, y_test, verbose=0)\n",
    "print('Test loss:', score[0])\n",
    "print('Test accuracy:', score[1])"
   ]
  },
  {
   "cell_type": "code",
   "execution_count": null,
   "metadata": {},
   "outputs": [],
   "source": [
    "\n"
   ]
  },
  {
   "cell_type": "code",
   "execution_count": null,
   "metadata": {},
   "outputs": [],
   "source": []
  }
 ],
 "metadata": {
  "kernelspec": {
   "display_name": "Python 3",
   "language": "python",
   "name": "python3"
  },
  "language_info": {
   "codemirror_mode": {
    "name": "ipython",
    "version": 3
   },
   "file_extension": ".py",
   "mimetype": "text/x-python",
   "name": "python",
   "nbconvert_exporter": "python",
   "pygments_lexer": "ipython3",
   "version": "3.7.2"
  }
 },
 "nbformat": 4,
 "nbformat_minor": 2
}
