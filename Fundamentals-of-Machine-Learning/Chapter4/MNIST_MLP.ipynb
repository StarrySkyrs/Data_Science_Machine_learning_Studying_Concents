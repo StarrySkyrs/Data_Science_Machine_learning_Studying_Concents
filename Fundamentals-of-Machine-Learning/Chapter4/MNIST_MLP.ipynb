{
 "cells": [
  {
   "cell_type": "markdown",
   "metadata": {},
   "source": [
    "# Keras test"
   ]
  },
  {
   "cell_type": "code",
   "execution_count": 1,
   "metadata": {},
   "outputs": [
    {
     "name": "stderr",
     "output_type": "stream",
     "text": [
      "Using TensorFlow backend.\n"
     ]
    },
    {
     "name": "stdout",
     "output_type": "stream",
     "text": [
      "WARNING:tensorflow:From C:\\Users\\Thomas Trappenberg\\WPy64-3720\\python-3.7.2.amd64\\lib\\site-packages\\tensorflow\\python\\framework\\op_def_library.py:263: colocate_with (from tensorflow.python.framework.ops) is deprecated and will be removed in a future version.\n",
      "Instructions for updating:\n",
      "Colocations handled automatically by placer.\n",
      "WARNING:tensorflow:From C:\\Users\\Thomas Trappenberg\\WPy64-3720\\python-3.7.2.amd64\\lib\\site-packages\\tensorflow\\python\\ops\\math_ops.py:3066: to_int32 (from tensorflow.python.ops.math_ops) is deprecated and will be removed in a future version.\n",
      "Instructions for updating:\n",
      "Use tf.cast instead.\n",
      "Train on 60000 samples, validate on 10000 samples\n",
      "Epoch 1/10\n",
      "60000/60000 [==============================] - 5s 87us/step - loss: 0.2743 - acc: 0.9142 - val_loss: 0.1821 - val_acc: 0.9451\n",
      "Epoch 2/10\n",
      "60000/60000 [==============================] - 4s 72us/step - loss: 0.1031 - acc: 0.9688 - val_loss: 0.0936 - val_acc: 0.9710\n",
      "Epoch 3/10\n",
      "60000/60000 [==============================] - 4s 74us/step - loss: 0.0767 - acc: 0.9766 - val_loss: 0.1131 - val_acc: 0.9664\n",
      "Epoch 4/10\n",
      "60000/60000 [==============================] - 4s 74us/step - loss: 0.0595 - acc: 0.9815 - val_loss: 0.1096 - val_acc: 0.9690\n",
      "Epoch 5/10\n",
      "60000/60000 [==============================] - 5s 75us/step - loss: 0.0516 - acc: 0.9844 - val_loss: 0.0808 - val_acc: 0.9754\n",
      "Epoch 6/10\n",
      "60000/60000 [==============================] - 4s 75us/step - loss: 0.0436 - acc: 0.9865 - val_loss: 0.1013 - val_acc: 0.9726\n",
      "Epoch 7/10\n",
      "60000/60000 [==============================] - 5s 82us/step - loss: 0.0369 - acc: 0.9885 - val_loss: 0.1065 - val_acc: 0.9719\n",
      "Epoch 8/10\n",
      "60000/60000 [==============================] - 4s 74us/step - loss: 0.0343 - acc: 0.9891 - val_loss: 0.0787 - val_acc: 0.9796\n",
      "Epoch 9/10\n",
      "60000/60000 [==============================] - 4s 75us/step - loss: 0.0319 - acc: 0.9904 - val_loss: 0.0931 - val_acc: 0.9762\n",
      "Epoch 10/10\n",
      "60000/60000 [==============================] - 5s 76us/step - loss: 0.0292 - acc: 0.9914 - val_loss: 0.0966 - val_acc: 0.9762\n",
      "10000/10000 [==============================] - 1s 60us/step\n",
      "Test loss: 0.0966487596149731 Test accuracy: 0.9762\n"
     ]
    }
   ],
   "source": [
    "import numpy as np\n",
    "import matplotlib.pyplot as plt\n",
    "from keras import models, layers, optimizers, datasets, utils\n",
    "\n",
    "(x_train, y_train), (x_test, y_test) = datasets.mnist.load_data()\n",
    "\n",
    "x_train = x_train.reshape(60000, 784)/255\n",
    "x_test = x_test.reshape(10000, 784)/255\n",
    "y_train = utils.to_categorical(y_train, 10)\n",
    "y_test = utils.to_categorical(y_test, 10)\n",
    "\n",
    "inputs = layers.Input(shape=(784,))\n",
    "x = layers.Dense(128, activation='relu')(inputs)\n",
    "x = layers.Dense(128, activation='relu')(x)\n",
    "x = layers.Dense(128, activation='relu')(x)\n",
    "x = layers.Dense(128, activation='relu')(x)\n",
    "x = layers.Dense(128, activation='relu')(x)\n",
    "outputs= layers.Dense(10, activation='softmax')(x)\n",
    "\n",
    "model = models.Model(inputs=inputs, outputs=outputs)\n",
    "\n",
    "model.compile(loss='categorical_crossentropy',\n",
    "              optimizer='Nadam', metrics=['accuracy'])\n",
    "\n",
    "history=model.fit(x_train, y_train,\n",
    "            batch_size=128,\n",
    "            epochs=10,\n",
    "            validation_data=(x_test, y_test))\n",
    "score = model.evaluate(x_test, y_test)\n",
    "print('Test loss:', score[0],'Test accuracy:', score[1])"
   ]
  },
  {
   "cell_type": "code",
   "execution_count": 2,
   "metadata": {},
   "outputs": [
    {
     "name": "stdout",
     "output_type": "stream",
     "text": [
      "dict_keys(['val_loss', 'val_acc', 'loss', 'acc'])\n"
     ]
    }
   ],
   "source": [
    "print(history.history.keys())"
   ]
  },
  {
   "cell_type": "code",
   "execution_count": 3,
   "metadata": {},
   "outputs": [
    {
     "data": {
      "image/png": "[encoded data removed]",
      "text/plain": [
       "<Figure size 432x288 with 1 Axes>"
      ]
     },
     "metadata": {
      "needs_background": "light"
     },
     "output_type": "display_data"
    }
   ],
   "source": [
    "# Plotting learning curves\n",
    "plt.plot(history.history['acc'],'--')\n",
    "plt.plot(history.history['val_acc'])\n",
    "plt.ylabel('accuracy')\n",
    "plt.xlabel('epoch')\n",
    "plt.legend(['train', 'test'], loc='lower right')\n",
    "plt.show()"
   ]
  },
  {
   "cell_type": "code",
   "execution_count": null,
   "metadata": {},
   "outputs": [],
   "source": []
  },
  {
   "cell_type": "code",
   "execution_count": null,
   "metadata": {},
   "outputs": [],
   "source": []
  }
 ],
 "metadata": {
  "kernelspec": {
   "display_name": "Python 3",
   "language": "python",
   "name": "python3"
  },
  "language_info": {
   "codemirror_mode": {
    "name": "ipython",
    "version": 3
   },
   "file_extension": ".py",
   "mimetype": "text/x-python",
   "name": "python",
   "nbconvert_exporter": "python",
   "pygments_lexer": "ipython3",
   "version": "3.7.2"
  }
 },
 "nbformat": 4,
 "nbformat_minor": 2
}
