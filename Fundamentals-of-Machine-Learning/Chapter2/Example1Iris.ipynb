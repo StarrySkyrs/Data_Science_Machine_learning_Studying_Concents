{
 "cells": [
  {
   "cell_type": "markdown",
   "metadata": {},
   "source": [
    "# Handling data"
   ]
  },
  {
   "cell_type": "code",
   "execution_count": null,
   "metadata": {},
   "outputs": [],
   "source": [
    "import numpy as np\n",
    "import matplotlib.pyplot as plt\n",
    "\n",
    "iris_data = np.loadtxt('iris.data',delimiter=',')\n",
    "print(iris_data.shape)\n",
    "\n",
    "features = iris_data[:,0:4]\n",
    "target = iris_data[:,4]\n",
    "\n",
    "feature_names = np.genfromtxt('feature_names.txt', \\\n",
    "                              delimiter=',', dtype='str')\n",
    "feature_names = np.delete(feature_names,-1)\n",
    "target_names = np.genfromtxt('target_names.txt', \\\n",
    "                             delimiter=',', dtype='str')\n",
    "print(target)\n",
    "print(features)"
   ]
  },
  {
   "cell_type": "code",
   "execution_count": null,
   "metadata": {},
   "outputs": [],
   "source": [
    "print(features[:,[1,3]].sum(axis=0))"
   ]
  },
  {
   "cell_type": "code",
   "execution_count": null,
   "metadata": {},
   "outputs": [],
   "source": [
    "plt.bar(np.arange(1,5),features.mean(axis=0))\n",
    "plt.errorbar(np.arange(1,5),features.mean(axis=0), \\\n",
    "             features.std(axis=0),linestyle='None', marker='o',c='r')\n",
    "plt.show()"
   ]
  },
  {
   "cell_type": "code",
   "execution_count": null,
   "metadata": {},
   "outputs": [],
   "source": [
    "plt.scatter(features[:50,0],features[:50,1], \\\n",
    "            s=10, c='r', label = target_names[0])\n",
    "plt.scatter(features[50:100,0],features[50:100,1], \\\n",
    "            s=10, c='g', label = target_names[1])\n",
    "plt.scatter(features[100:,0],features[100:,1], \\\n",
    "            s=10, c='b', label = target_names[2])\n",
    "plt.legend(loc='upper right');\n",
    "plt.xlabel(feature_names[0])\n",
    "plt.ylabel(feature_names[1])\n",
    "plt.show()"
   ]
  }
 ],
 "metadata": {
  "kernelspec": {
   "display_name": "Python 3",
   "language": "python",
   "name": "python3"
  },
  "language_info": {
   "codemirror_mode": {
    "name": "ipython",
    "version": 3
   },
   "file_extension": ".py",
   "mimetype": "text/x-python",
   "name": "python",
   "nbconvert_exporter": "python",
   "pygments_lexer": "ipython3",
   "version": "3.7.2"
  }
 },
 "nbformat": 4,
 "nbformat_minor": 2
}
