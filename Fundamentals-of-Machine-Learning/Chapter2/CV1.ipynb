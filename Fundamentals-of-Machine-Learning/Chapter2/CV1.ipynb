{
 "cells": [
  {
   "cell_type": "code",
   "execution_count": null,
   "metadata": {},
   "outputs": [],
   "source": [
    "import numpy as np\n",
    "import matplotlib.pyplot as plt\n",
    "\n",
    "img=plt.imread('motorbike.jpg');\n",
    "plt.imshow(img)\n",
    "img.shape"
   ]
  },
  {
   "cell_type": "code",
   "execution_count": null,
   "metadata": {},
   "outputs": [],
   "source": [
    "img=plt.imread('red_dot_small.png'); img=img[:,:,:3]\n",
    "plt.imshow(img)\n",
    "img.shape"
   ]
  },
  {
   "cell_type": "code",
   "execution_count": null,
   "metadata": {
    "scrolled": true
   },
   "outputs": [],
   "source": [
    "img[6,5,1]=0; img[6,5,2]=0\n",
    "plt.imshow(img)"
   ]
  },
  {
   "cell_type": "code",
   "execution_count": null,
   "metadata": {},
   "outputs": [],
   "source": [
    "img_r=np.zeros((8,8,3))\n",
    "img_r[:,:,0]=img[:,:,0]\n",
    "plt.imshow(img_r)"
   ]
  },
  {
   "cell_type": "code",
   "execution_count": null,
   "metadata": {},
   "outputs": [],
   "source": [
    "img_g=np.zeros((8,8,3))\n",
    "img_g[:,:,1]=img[:,:,1]\n",
    "plt.imshow(img_g)"
   ]
  },
  {
   "cell_type": "code",
   "execution_count": null,
   "metadata": {},
   "outputs": [],
   "source": [
    "img_b=np.zeros((8,8,3))\n",
    "img_b[:,:,2]=img[:,:,2]\n",
    "plt.imshow(img_b)"
   ]
  },
  {
   "cell_type": "code",
   "execution_count": null,
   "metadata": {},
   "outputs": [],
   "source": [
    "print(img[0,0,:])\n",
    "print(img[6,5,:])"
   ]
  },
  {
   "cell_type": "code",
   "execution_count": null,
   "metadata": {},
   "outputs": [],
   "source": [
    "# 1x1 convolution \n",
    "red_idx=2*img[:,:,0]-img[:,:,1]-img[:,:,2]\n",
    "plt.imshow(red_idx, cmap='gray')\n",
    "max_idx=np.argmax(red_idx)\n",
    "max_position=np.unravel_index(max_idx, (8,8))\n",
    "print(max_position)"
   ]
  },
  {
   "cell_type": "code",
   "execution_count": null,
   "metadata": {},
   "outputs": [],
   "source": [
    "# 2x2 convolution\n",
    "f1=np.array([[2,2],[2,2]])\n",
    "f2=np.array([[-1,-1],[-1,-1]])\n",
    "f3=np.array([[-1,-1],[-1,-1]])\n",
    "y=np.zeros((7,7))\n",
    "for i in range(7):\n",
    "    for j in range(7):\n",
    "        y[j,i]=np.sum(f1*img[j:j+2,i:i+2,0]+f2*img[j:j+2,i:i+2,1]+f3*img[j:j+2,i:i+2,1])         \n",
    "plt.imshow(y, cmap='gray')\n",
    "max_idx=np.argmax(y)\n",
    "max_position=np.unravel_index(max_idx, (7,7))\n",
    "print(max_position)"
   ]
  },
  {
   "cell_type": "code",
   "execution_count": null,
   "metadata": {},
   "outputs": [],
   "source": []
  }
 ],
 "metadata": {
  "kernelspec": {
   "display_name": "Python 3",
   "language": "python",
   "name": "python3"
  },
  "language_info": {
   "codemirror_mode": {
    "name": "ipython",
    "version": 3
   },
   "file_extension": ".py",
   "mimetype": "text/x-python",
   "name": "python",
   "nbconvert_exporter": "python",
   "pygments_lexer": "ipython3",
   "version": "3.7.2"
  }
 },
 "nbformat": 4,
 "nbformat_minor": 2
}
