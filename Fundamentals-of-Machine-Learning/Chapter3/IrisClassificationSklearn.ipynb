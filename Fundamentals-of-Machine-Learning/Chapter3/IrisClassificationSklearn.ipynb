{
 "cells": [
  {
   "cell_type": "markdown",
   "metadata": {},
   "source": [
    "# Iris classification"
   ]
  },
  {
   "cell_type": "code",
   "execution_count": 1,
   "metadata": {},
   "outputs": [
    {
     "name": "stdout",
     "output_type": "stream",
     "text": [
      "(74, 4)\n"
     ]
    }
   ],
   "source": [
    "import numpy as np\n",
    "import matplotlib.pyplot as plt\n",
    "\n",
    "iris_data = np.loadtxt('iris.data',delimiter=',')\n",
    "\n",
    "x_train = iris_data[1:-1:2,0:4]\n",
    "y_train = np.int32(iris_data[1:-1:2,4])\n",
    "x_test = iris_data[0:-1:2,0:4]\n",
    "y_test = np.int32(iris_data[0:-1:2,4])\n",
    "\n",
    "print(x_train.shape)"
   ]
  },
  {
   "cell_type": "code",
   "execution_count": 3,
   "metadata": {},
   "outputs": [
    {
     "name": "stdout",
     "output_type": "stream",
     "text": [
      "Percentage correct (accuracy) of SVM :  0.9733333333333334\n",
      "73.0\n"
     ]
    }
   ],
   "source": [
    "from sklearn import svm\n",
    "# model\n",
    "model = svm.SVC(kernel='linear')\n",
    "# train\n",
    "model.fit(x_train,y_train)\n",
    "# prediction\n",
    "y_predicted=model.predict(x_test)\n",
    "#evaluation\n",
    "print('Percentage correct (accuracy) of SVM : ', np.mean(y_test == y_predicted))"
   ]
  },
  {
   "cell_type": "code",
   "execution_count": 4,
   "metadata": {},
   "outputs": [
    {
     "name": "stdout",
     "output_type": "stream",
     "text": [
      "Percentage correct (accuracy) of RFC :  0.96\n"
     ]
    }
   ],
   "source": [
    "from sklearn.ensemble import RandomForestClassifier\n",
    "# model\n",
    "model = RandomForestClassifier(n_estimators=10)\n",
    "# train\n",
    "model.fit(x_train,y_train)\n",
    "# prediction\n",
    "y_predicted=model.predict(x_test)\n",
    "#evaluation\n",
    "print('Percentage correct (accuracy) of RFC : ', np.mean(y_test == y_predicted))"
   ]
  },
  {
   "cell_type": "code",
   "execution_count": 7,
   "metadata": {},
   "outputs": [
    {
     "name": "stdout",
     "output_type": "stream",
     "text": [
      "Percentage correct (accuracy) of MLP :  0.96\n"
     ]
    },
    {
     "name": "stderr",
     "output_type": "stream",
     "text": [
      "C:\\Users\\Thomas Trappenberg\\WPy64-3720\\python-3.7.2.amd64\\lib\\site-packages\\sklearn\\neural_network\\multilayer_perceptron.py:562: ConvergenceWarning: Stochastic Optimizer: Maximum iterations (200) reached and the optimization hasn't converged yet.\n",
      "  % self.max_iter, ConvergenceWarning)\n"
     ]
    }
   ],
   "source": [
    "from sklearn.neural_network import MLPClassifier\n",
    "#model\n",
    "model= MLPClassifier(hidden_layer_sizes=(10, 20, 10))\n",
    "# train\n",
    "model.fit(x_train,y_train)\n",
    "# prediction\n",
    "y_predicted=model.predict(x_test)\n",
    "#evaluation\n",
    "print('Percentage correct (accuracy) of MLP : ', np.mean(y_test == y_predicted))"
   ]
  },
  {
   "cell_type": "code",
   "execution_count": 8,
   "metadata": {},
   "outputs": [
    {
     "data": {
      "image/png": "[encoded data removed]",
      "text/plain": [
       "<Figure size 288x288 with 2 Axes>"
      ]
     },
     "metadata": {
      "needs_background": "light"
     },
     "output_type": "display_data"
    }
   ],
   "source": [
    "from sklearn import metrics, model_selection \n",
    "# Confusion Matrix\n",
    "cm = metrics.confusion_matrix(y_test, y_predicted)\n",
    "plt.matshow(cm)\n",
    "plt.colorbar()\n",
    "plt.ylabel('True label')\n",
    "plt.xlabel('Predicted label')\n",
    "plt.show()"
   ]
  },
  {
   "cell_type": "code",
   "execution_count": 9,
   "metadata": {},
   "outputs": [
    {
     "name": "stdout",
     "output_type": "stream",
     "text": [
      "\n",
      " The main classification metrics for iris data: \n",
      "\n",
      "               precision    recall  f1-score   support\n",
      "\n",
      "           0       1.00      1.00      1.00        25\n",
      "           1       1.00      0.88      0.94        25\n",
      "           2       0.89      1.00      0.94        25\n",
      "\n",
      "   micro avg       0.96      0.96      0.96        75\n",
      "   macro avg       0.96      0.96      0.96        75\n",
      "weighted avg       0.96      0.96      0.96        75\n",
      "\n"
     ]
    }
   ],
   "source": [
    "# Model Evaluation\n",
    "print('\\n The main classification metrics for iris data: \\n\\n',metrics.classification_report(y_test, y_predicted))"
   ]
  },
  {
   "cell_type": "code",
   "execution_count": 10,
   "metadata": {},
   "outputs": [
    {
     "name": "stdout",
     "output_type": "stream",
     "text": [
      "Accuracy on iris data: 0.9733 (+/- 0.0442)\n"
     ]
    }
   ],
   "source": [
    "# cross-validation\n",
    "x = iris_data[:,0:4]\n",
    "y = iris_data[:,4]\n",
    "CV=10\n",
    "scores = model_selection.cross_val_score(svm.SVC(kernel='linear'), x, y, cv=CV)\n",
    "\n",
    "print(\"Accuracy on iris data: %0.4f (+/- %0.4f)\" % (scores.mean(), scores.std()))\n"
   ]
  },
  {
   "cell_type": "code",
   "execution_count": null,
   "metadata": {},
   "outputs": [],
   "source": []
  }
 ],
 "metadata": {
  "kernelspec": {
   "display_name": "Python 3",
   "language": "python",
   "name": "python3"
  },
  "language_info": {
   "codemirror_mode": {
    "name": "ipython",
    "version": 3
   },
   "file_extension": ".py",
   "mimetype": "text/x-python",
   "name": "python",
   "nbconvert_exporter": "python",
   "pygments_lexer": "ipython3",
   "version": "3.7.2"
  }
 },
 "nbformat": 4,
 "nbformat_minor": 2
}
