{
 "cells": [
  {
   "cell_type": "code",
   "execution_count": null,
   "metadata": {},
   "outputs": [],
   "source": [
    "import numpy as np\n",
    "import matplotlib.pyplot as plt\n",
    "from keras import models, layers, optimizers\n",
    "\n",
    "def tau(s,a):\n",
    "    if (s[0] and s[4]) == 0 : s=np.roll(s,a)\n",
    "    return s\n",
    "\n",
    "def rho(s):\n",
    "    return ((s[0]==1)+2*(s[4]==1))    \n",
    "\n",
    "def terminal_state(s):\n",
    "    return (s[0]==1 or s[4]==1)    \n",
    "\n",
    "gamma=0.5\n",
    "invT = 1"
   ]
  },
  {
   "cell_type": "code",
   "execution_count": null,
   "metadata": {},
   "outputs": [],
   "source": [
    "# the network\n",
    "inputs = layers.Input(shape=(5,))\n",
    "h = layers.Dense(10, activation='relu')(inputs)\n",
    "outputs = layers.Dense(2, activation='linear')(h)\n",
    "\n",
    "model = models.Model(inputs=inputs, outputs=outputs)\n",
    "RMSprop = optimizers.RMSprop(lr=0.01)\n",
    "model.compile(loss='mse', optimizer=RMSprop)"
   ]
  },
  {
   "cell_type": "code",
   "execution_count": null,
   "metadata": {},
   "outputs": [],
   "source": [
    "for trial in range(400):\n",
    "    s= np.array([0, 0, 1, 0, 0])\n",
    "    for t in range(0,5):\n",
    "        if terminal_state(s): break\n",
    "        if trial > 30 and invT > 0.1: invT -= 0.001\n",
    "        prediction=model.predict(s.reshape(1,5), steps=1, verbose=0)\n",
    "        aidx=np.argmax(prediction)\n",
    "        if np.random.rand() < invT : aidx=1-aidx\n",
    "        a=2*aidx-1\n",
    "        next_s = tau(s,a)\n",
    "        if terminal_state(next_s): \n",
    "            y = rho(next_s)\n",
    "        else:\n",
    "            y = gamma*np.max(model.predict(next_s.reshape(1,5), steps=1, verbose=0))\n",
    "        prediction[0,aidx]=y\n",
    "        model.fit(s.reshape(1,5), prediction, epochs=1, verbose=0)\n",
    "        s = np.copy(next_s) "
   ]
  },
  {
   "cell_type": "code",
   "execution_count": null,
   "metadata": {},
   "outputs": [],
   "source": [
    "policy = np.zeros(5)\n",
    "Q=[]\n",
    "s = np.array([1,0,0,0,0])\n",
    "for i in range(0,5):\n",
    "    Qs=model.predict(s.reshape(1,5), steps=1)\n",
    "    Q.append(Qs)\n",
    "    aidx=np.argmax(Qs)\n",
    "    policy[i]=2*aidx-1\n",
    "    s = np.roll(s,1)\n",
    "print(np.transpose(Q))\n",
    "print('policy:',np.transpose(policy))\n"
   ]
  },
  {
   "cell_type": "code",
   "execution_count": null,
   "metadata": {},
   "outputs": [],
   "source": []
  }
 ],
 "metadata": {
  "kernelspec": {
   "display_name": "Python 3",
   "language": "python",
   "name": "python3"
  },
  "language_info": {
   "codemirror_mode": {
    "name": "ipython",
    "version": 3
   },
   "file_extension": ".py",
   "mimetype": "text/x-python",
   "name": "python",
   "nbconvert_exporter": "python",
   "pygments_lexer": "ipython3",
   "version": "3.7.2"
  }
 },
 "nbformat": 4,
 "nbformat_minor": 2
}
